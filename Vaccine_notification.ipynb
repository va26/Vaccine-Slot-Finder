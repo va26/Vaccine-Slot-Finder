{
 "cells": [
  {
   "cell_type": "code",
   "execution_count": 1,
   "metadata": {},
   "outputs": [],
   "source": [
    "import urllib.request, json\n",
    "import os\n",
    "from datetime import datetime\n",
    "import time\n",
    "import random"
   ]
  },
  {
   "cell_type": "code",
   "execution_count": 2,
   "metadata": {},
   "outputs": [],
   "source": [
    "from slack import WebClient\n",
    "def slack_message(message, channel):\n",
    "    slack_token = os.environ['SLACK_BOT_TOKEN']\n",
    "    client = WebClient(token=slack_token)\n",
    "\n",
    "    response = client.chat_postMessage(channel=channel, text=message)"
   ]
  },
  {
   "cell_type": "code",
   "execution_count": 3,
   "metadata": {},
   "outputs": [],
   "source": [
    "def get_info(center, session):\n",
    "    name = center['name']\n",
    "    pin = center['pincode']\n",
    "    fee_type = center['fee_type']\n",
    "    date = session['date']\n",
    "    cap = session['available_capacity']\n",
    "    vaccine = session['vaccine']\n",
    "    \n",
    "    if vaccine == \"\":\n",
    "        vaccine = \"Not Specified\"\n",
    "    \n",
    "    info_str = \"Found a slot!!!\\nCenter Name: {}\\nPincode: {}\\nDate: {}\\nFee Type: {}\\nCapacity: {}\\nVaccine: {}\".format(name, pin, date,\n",
    "                                                                                                        fee_type, cap, vaccine)\n",
    "    \n",
    "    return info_str"
   ]
  },
  {
   "cell_type": "code",
   "execution_count": 4,
   "metadata": {},
   "outputs": [],
   "source": [
    "def get_slot(state, district, date):\n",
    "    with urllib.request.urlopen(\"https://cdn-api.co-vin.in/api/v2/admin/location/states\") as url:\n",
    "        data= json.loads(url.read().decode())\n",
    "        \n",
    "    state_id = next((item for item in data[\"states\"] if item[\"state_name\"] == state), None)[\"state_id\"]\n",
    "    \n",
    "    with urllib.request.urlopen(\"https://cdn-api.co-vin.in/api/v2/admin/location/districts/\" + str(state_id)) as url:\n",
    "        state_data = json.loads(url.read().decode())\n",
    "    \n",
    "    district_id = next((item for item in state_data[\"districts\"] if item[\"district_name\"] == district), None)[\"district_id\"]\n",
    "    \n",
    "    with urllib.request.urlopen(\"https://cdn-api.co-vin.in/api/v2/appointment/sessions/public/calendarByDistrict?district_id={}&date={}\".format(district_id, date)) as url:\n",
    "        center_data = json.loads(url.read().decode())\n",
    "        \n",
    "    found = 0\n",
    "    sess_cnt = 0\n",
    "    e_centers = 0\n",
    "    for i in range(len(center_data['centers'])):\n",
    "        center_found = 0\n",
    "        for j in range(len(center_data['centers'][i]['sessions'])):\n",
    "            if center_data['centers'][i]['sessions'][j]['min_age_limit'] == 18:\n",
    "                sess_cnt += 1\n",
    "                center_found = 1\n",
    "            if center_data['centers'][i]['sessions'][j]['min_age_limit'] == 18 and center_data['centers'][i]['sessions'][j]['available_capacity'] > 0:\n",
    "                slack_message(get_info(center_data['centers'][i], center_data['centers'][i]['sessions'][j]), \"#vaccine_alert\")\n",
    "                found = 1\n",
    "                break\n",
    "        if center_found:\n",
    "            e_centers += 1\n",
    "        if found:\n",
    "            break\n",
    "        \n",
    "    return found, sess_cnt, e_centers\n"
   ]
  },
  {
   "cell_type": "markdown",
   "metadata": {},
   "source": [
    "## Enter State and District Manually to search slots"
   ]
  },
  {
   "cell_type": "code",
   "execution_count": 5,
   "metadata": {},
   "outputs": [],
   "source": [
    "state = \"Karnataka\"\n",
    "district = \"BBMP\""
   ]
  },
  {
   "cell_type": "code",
   "execution_count": null,
   "metadata": {},
   "outputs": [],
   "source": [
    "while True:\n",
    "    date = datetime.today().strftime('%d-%m-%Y')\n",
    "    found, sess_count, e_centers = get_slot(state, district, date)\n",
    "    \n",
    "    #print(\"No of eligible centers searched: {}\\nNo of Sessions searched(total): {}\".format(e_centers, sess_count))\n",
    "    \n",
    "    if found:\n",
    "        slack_message(\"Slot found. Closing the API calls...\", \"#vaccine_alert\")\n",
    "        break\n",
    "    \n",
    "    random.seed(datetime.now())\n",
    "    sec = random.randint(1, 10)\n",
    "    time.sleep(sec)"
   ]
  },
  {
   "cell_type": "code",
   "execution_count": null,
   "metadata": {},
   "outputs": [],
   "source": []
  },
  {
   "cell_type": "code",
   "execution_count": null,
   "metadata": {},
   "outputs": [],
   "source": []
  },
  {
   "cell_type": "code",
   "execution_count": null,
   "metadata": {},
   "outputs": [],
   "source": []
  },
  {
   "cell_type": "code",
   "execution_count": null,
   "metadata": {},
   "outputs": [],
   "source": []
  },
  {
   "cell_type": "code",
   "execution_count": null,
   "metadata": {},
   "outputs": [],
   "source": []
  },
  {
   "cell_type": "code",
   "execution_count": null,
   "metadata": {},
   "outputs": [],
   "source": []
  },
  {
   "cell_type": "code",
   "execution_count": null,
   "metadata": {},
   "outputs": [],
   "source": []
  },
  {
   "cell_type": "code",
   "execution_count": null,
   "metadata": {},
   "outputs": [],
   "source": []
  },
  {
   "cell_type": "code",
   "execution_count": null,
   "metadata": {},
   "outputs": [],
   "source": []
  },
  {
   "cell_type": "code",
   "execution_count": null,
   "metadata": {},
   "outputs": [],
   "source": []
  },
  {
   "cell_type": "code",
   "execution_count": null,
   "metadata": {},
   "outputs": [],
   "source": [
    "district_id = 512\n",
    "date = datetime.today().strftime('%d-%m-%Y')"
   ]
  },
  {
   "cell_type": "code",
   "execution_count": null,
   "metadata": {},
   "outputs": [],
   "source": [
    "with urllib.request.urlopen(\"https://cdn-api.co-vin.in/api/v2/appointment/sessions/public/calendarByDistrict?district_id={}&date={}\".format(district_id, date)) as url:\n",
    "        center_data = json.loads(url.read().decode())"
   ]
  },
  {
   "cell_type": "code",
   "execution_count": null,
   "metadata": {},
   "outputs": [],
   "source": [
    "with open('Center_data1.txt', 'w') as outfile:\n",
    "    json.dump(center_data, outfile)"
   ]
  },
  {
   "cell_type": "code",
   "execution_count": null,
   "metadata": {},
   "outputs": [],
   "source": [
    "while True:\n",
    "    print(random.randint(1, 10))"
   ]
  },
  {
   "cell_type": "code",
   "execution_count": null,
   "metadata": {},
   "outputs": [],
   "source": []
  },
  {
   "cell_type": "code",
   "execution_count": null,
   "metadata": {},
   "outputs": [],
   "source": []
  }
 ],
 "metadata": {
  "kernelspec": {
   "display_name": "Python 3",
   "language": "python",
   "name": "python3"
  },
  "language_info": {
   "codemirror_mode": {
    "name": "ipython",
    "version": 3
   },
   "file_extension": ".py",
   "mimetype": "text/x-python",
   "name": "python",
   "nbconvert_exporter": "python",
   "pygments_lexer": "ipython3",
   "version": "3.8.5"
  }
 },
 "nbformat": 4,
 "nbformat_minor": 4
}
